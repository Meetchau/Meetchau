{
  "nbformat": 4,
  "nbformat_minor": 0,
  "metadata": {
    "colab": {
      "provenance": [],
      "authorship_tag": "ABX9TyNrImcVywbhOwIqnvedglxe",
      "include_colab_link": true
    },
    "kernelspec": {
      "name": "python3",
      "display_name": "Python 3"
    },
    "language_info": {
      "name": "python"
    }
  },
  "cells": [
    {
      "cell_type": "markdown",
      "metadata": {
        "id": "view-in-github",
        "colab_type": "text"
      },
      "source": [
        "<a href=\"https://colab.research.google.com/github/Meetchau/Meetchau/blob/main/Practise0.ipynb\" target=\"_parent\"><img src=\"https://colab.research.google.com/assets/colab-badge.svg\" alt=\"Open In Colab\"/></a>"
      ]
    },
    {
      "cell_type": "code",
      "execution_count": null,
      "metadata": {
        "id": "jyhQkNj52X0a"
      },
      "outputs": [],
      "source": [
        "a = \"abkfdjbafkljasklj\""
      ]
    },
    {
      "cell_type": "code",
      "source": [
        "a[5]"
      ],
      "metadata": {
        "colab": {
          "base_uri": "https://localhost:8080/",
          "height": 36
        },
        "id": "8NH727Hv3XKM",
        "outputId": "5eb3aace-cc13-4716-dda1-cce413a839e7"
      },
      "execution_count": null,
      "outputs": [
        {
          "output_type": "execute_result",
          "data": {
            "text/plain": [
              "'j'"
            ],
            "application/vnd.google.colaboratory.intrinsic+json": {
              "type": "string"
            }
          },
          "metadata": {},
          "execution_count": 2
        }
      ]
    },
    {
      "cell_type": "code",
      "source": [
        "a[1:4]"
      ],
      "metadata": {
        "colab": {
          "base_uri": "https://localhost:8080/",
          "height": 36
        },
        "id": "XvwyA5xH3k5F",
        "outputId": "feb81de1-fd77-4d8f-deb1-d8187c4896b7"
      },
      "execution_count": null,
      "outputs": [
        {
          "output_type": "execute_result",
          "data": {
            "text/plain": [
              "'bkf'"
            ],
            "application/vnd.google.colaboratory.intrinsic+json": {
              "type": "string"
            }
          },
          "metadata": {},
          "execution_count": 3
        }
      ]
    },
    {
      "cell_type": "code",
      "source": [
        "a[:]"
      ],
      "metadata": {
        "colab": {
          "base_uri": "https://localhost:8080/",
          "height": 36
        },
        "id": "gSNjDfax3vda",
        "outputId": "cf1f7ab1-6242-453f-863a-315ae85d8f54"
      },
      "execution_count": null,
      "outputs": [
        {
          "output_type": "execute_result",
          "data": {
            "text/plain": [
              "'abkfdjbafkljasklj'"
            ],
            "application/vnd.google.colaboratory.intrinsic+json": {
              "type": "string"
            }
          },
          "metadata": {},
          "execution_count": 4
        }
      ]
    },
    {
      "cell_type": "code",
      "source": [
        "b = [1,2,2,3,'j']"
      ],
      "metadata": {
        "id": "qqGNiG6Z3zrg"
      },
      "execution_count": null,
      "outputs": []
    },
    {
      "cell_type": "code",
      "source": [
        "b.append('K')"
      ],
      "metadata": {
        "id": "AQL2D0Fb4vD9"
      },
      "execution_count": null,
      "outputs": []
    },
    {
      "cell_type": "code",
      "source": [
        "b"
      ],
      "metadata": {
        "colab": {
          "base_uri": "https://localhost:8080/"
        },
        "id": "CEbRYgWe47sZ",
        "outputId": "fb57f029-56a8-42e0-c987-1a25c7ef326e"
      },
      "execution_count": null,
      "outputs": [
        {
          "output_type": "execute_result",
          "data": {
            "text/plain": [
              "[1, 2, 2, 3, 'j', 'K']"
            ]
          },
          "metadata": {},
          "execution_count": 8
        }
      ]
    },
    {
      "cell_type": "code",
      "source": [
        "b.append(7)\n",
        "b"
      ],
      "metadata": {
        "colab": {
          "base_uri": "https://localhost:8080/"
        },
        "id": "rnnJujI048kr",
        "outputId": "aad90790-b4a0-4190-9ebf-9c7245f67c31"
      },
      "execution_count": null,
      "outputs": [
        {
          "output_type": "execute_result",
          "data": {
            "text/plain": [
              "[1, 2, 2, 3, 'j', 'K', 7, 7, 7, 7, 7]"
            ]
          },
          "metadata": {},
          "execution_count": 14
        }
      ]
    },
    {
      "cell_type": "code",
      "source": [
        "b[5] = [4,3,2]"
      ],
      "metadata": {
        "id": "bRo6eTOA5AEA"
      },
      "execution_count": null,
      "outputs": []
    },
    {
      "cell_type": "code",
      "source": [
        "b"
      ],
      "metadata": {
        "colab": {
          "base_uri": "https://localhost:8080/"
        },
        "id": "1fmrf7ED5wkl",
        "outputId": "cfcd0018-c451-4020-bef9-af90e3f4e341"
      },
      "execution_count": null,
      "outputs": [
        {
          "output_type": "execute_result",
          "data": {
            "text/plain": [
              "[1, 2, 2, 3, 'j', [4, 3, 2], 7, 7, 7, 7, 7]"
            ]
          },
          "metadata": {},
          "execution_count": 19
        }
      ]
    },
    {
      "cell_type": "code",
      "source": [
        "b[5][0]"
      ],
      "metadata": {
        "colab": {
          "base_uri": "https://localhost:8080/"
        },
        "id": "1bnhdBWp5yF8",
        "outputId": "d7384e4e-e43a-4b01-ffa3-33e04038202b"
      },
      "execution_count": null,
      "outputs": [
        {
          "output_type": "execute_result",
          "data": {
            "text/plain": [
              "4"
            ]
          },
          "metadata": {},
          "execution_count": 20
        }
      ]
    },
    {
      "cell_type": "code",
      "source": [
        "c = {'student0':'Jane', 'student1':'John','student2': 'Swit'}"
      ],
      "metadata": {
        "id": "9G6Zezk06RWd"
      },
      "execution_count": null,
      "outputs": []
    },
    {
      "cell_type": "code",
      "source": [
        "c['student0']"
      ],
      "metadata": {
        "colab": {
          "base_uri": "https://localhost:8080/",
          "height": 36
        },
        "id": "a_h-2PPT7I0y",
        "outputId": "7f032064-cce9-4e89-89b9-7bb42f3b1a79"
      },
      "execution_count": null,
      "outputs": [
        {
          "output_type": "execute_result",
          "data": {
            "text/plain": [
              "'Jane'"
            ],
            "application/vnd.google.colaboratory.intrinsic+json": {
              "type": "string"
            }
          },
          "metadata": {},
          "execution_count": 22
        }
      ]
    },
    {
      "cell_type": "code",
      "source": [
        "k = {'Student4':{'Student':'Guy'}}"
      ],
      "metadata": {
        "id": "Jm0X4xKQ7K0E"
      },
      "execution_count": null,
      "outputs": []
    },
    {
      "cell_type": "code",
      "source": [
        "k['Student4']['Student']"
      ],
      "metadata": {
        "colab": {
          "base_uri": "https://localhost:8080/",
          "height": 36
        },
        "id": "u95dp19P7OJo",
        "outputId": "add1518a-c3fe-43b4-cd86-269855d8517b"
      },
      "execution_count": null,
      "outputs": [
        {
          "output_type": "execute_result",
          "data": {
            "text/plain": [
              "'Guy'"
            ],
            "application/vnd.google.colaboratory.intrinsic+json": {
              "type": "string"
            }
          },
          "metadata": {},
          "execution_count": 25
        }
      ]
    },
    {
      "cell_type": "code",
      "source": [
        "x = (2,12,33,4)"
      ],
      "metadata": {
        "id": "3u6OnI5Z78TU"
      },
      "execution_count": null,
      "outputs": []
    },
    {
      "cell_type": "code",
      "source": [
        "h = {2323,2323,2341,22,2,2,2,34}"
      ],
      "metadata": {
        "id": "35w5FrzD8dLk"
      },
      "execution_count": null,
      "outputs": []
    },
    {
      "cell_type": "code",
      "source": [
        "h"
      ],
      "metadata": {
        "colab": {
          "base_uri": "https://localhost:8080/"
        },
        "id": "Iz2SxVFh8ezT",
        "outputId": "de53a5f0-d520-4982-fca3-deb63bfe1aaf"
      },
      "execution_count": null,
      "outputs": [
        {
          "output_type": "execute_result",
          "data": {
            "text/plain": [
              "{2, 22, 34, 2323, 2341}"
            ]
          },
          "metadata": {},
          "execution_count": 29
        }
      ]
    },
    {
      "cell_type": "code",
      "source": [
        "y = [1,2,3,4]\n",
        "for i in y:\n",
        "  print('Python {}'.format(i))"
      ],
      "metadata": {
        "colab": {
          "base_uri": "https://localhost:8080/"
        },
        "id": "g46Ad17j817T",
        "outputId": "55e316da-a68b-4255-df69-c41f6e30d23e"
      },
      "execution_count": null,
      "outputs": [
        {
          "output_type": "stream",
          "name": "stdout",
          "text": [
            "Python 1\n",
            "Python 2\n",
            "Python 3\n",
            "Python 4\n"
          ]
        }
      ]
    },
    {
      "cell_type": "code",
      "source": [
        "a = 1\n",
        "while a<25:\n",
        "  print(\"Python\")\n",
        "  a = a+1"
      ],
      "metadata": {
        "colab": {
          "base_uri": "https://localhost:8080/"
        },
        "id": "sJmFbyRt_3Qq",
        "outputId": "d609c6c6-e2d5-45bb-80e4-9953dd993459"
      },
      "execution_count": null,
      "outputs": [
        {
          "output_type": "stream",
          "name": "stdout",
          "text": [
            "Python\n",
            "Python\n",
            "Python\n",
            "Python\n",
            "Python\n",
            "Python\n",
            "Python\n",
            "Python\n",
            "Python\n",
            "Python\n",
            "Python\n",
            "Python\n",
            "Python\n",
            "Python\n",
            "Python\n",
            "Python\n",
            "Python\n",
            "Python\n",
            "Python\n",
            "Python\n",
            "Python\n",
            "Python\n",
            "Python\n",
            "Python\n"
          ]
        }
      ]
    },
    {
      "cell_type": "code",
      "source": [
        "'king'.upper()"
      ],
      "metadata": {
        "id": "M_Xjy1GlCXLG",
        "colab": {
          "base_uri": "https://localhost:8080/",
          "height": 36
        },
        "outputId": "818c2dcf-a6a1-435b-c9db-230dd85d46d9"
      },
      "execution_count": null,
      "outputs": [
        {
          "output_type": "execute_result",
          "data": {
            "text/plain": [
              "'KING'"
            ],
            "application/vnd.google.colaboratory.intrinsic+json": {
              "type": "string"
            }
          },
          "metadata": {},
          "execution_count": 4
        }
      ]
    },
    {
      "cell_type": "code",
      "source": [
        "'KING'.lower()"
      ],
      "metadata": {
        "colab": {
          "base_uri": "https://localhost:8080/",
          "height": 36
        },
        "id": "sonCP0L2lDcf",
        "outputId": "76fe0cb4-5902-4145-fec1-f9d7ab0c4e4a"
      },
      "execution_count": null,
      "outputs": [
        {
          "output_type": "execute_result",
          "data": {
            "text/plain": [
              "'king'"
            ],
            "application/vnd.google.colaboratory.intrinsic+json": {
              "type": "string"
            }
          },
          "metadata": {},
          "execution_count": 5
        }
      ]
    },
    {
      "cell_type": "code",
      "source": [
        "def cube(a):\n",
        "  print(a**3)\n"
      ],
      "metadata": {
        "id": "PghUwOX5lTVm"
      },
      "execution_count": null,
      "outputs": []
    },
    {
      "cell_type": "code",
      "source": [
        "cube(5)"
      ],
      "metadata": {
        "colab": {
          "base_uri": "https://localhost:8080/"
        },
        "id": "hHx9MEqOm31-",
        "outputId": "b3e89a1b-b26e-4e9a-c56f-cff768816a87"
      },
      "execution_count": null,
      "outputs": [
        {
          "output_type": "stream",
          "name": "stdout",
          "text": [
            "125\n"
          ]
        }
      ]
    },
    {
      "cell_type": "code",
      "source": [
        "cube(3)"
      ],
      "metadata": {
        "colab": {
          "base_uri": "https://localhost:8080/"
        },
        "id": "v4bwwCFSm5Pi",
        "outputId": "104ac25a-949b-46a3-c4ed-375f13019271"
      },
      "execution_count": null,
      "outputs": [
        {
          "output_type": "stream",
          "name": "stdout",
          "text": [
            "27\n"
          ]
        }
      ]
    },
    {
      "cell_type": "code",
      "source": [
        "cube(5)"
      ],
      "metadata": {
        "colab": {
          "base_uri": "https://localhost:8080/"
        },
        "id": "SOsKBxQ_m8tu",
        "outputId": "fbe7a322-a2ca-46bf-be8a-d2206024ccd0"
      },
      "execution_count": null,
      "outputs": [
        {
          "output_type": "stream",
          "name": "stdout",
          "text": [
            "125\n"
          ]
        }
      ]
    },
    {
      "cell_type": "code",
      "source": [
        "def cuberoot(k):\n",
        "  print(k**(1/3))"
      ],
      "metadata": {
        "id": "cITsQjDknBgi"
      },
      "execution_count": null,
      "outputs": []
    },
    {
      "cell_type": "code",
      "source": [
        "cuberoot(27)"
      ],
      "metadata": {
        "colab": {
          "base_uri": "https://localhost:8080/"
        },
        "id": "c3OhvwLZnPIG",
        "outputId": "07b1293a-68dc-4b9d-ddd7-8f440149f92d"
      },
      "execution_count": null,
      "outputs": [
        {
          "output_type": "stream",
          "name": "stdout",
          "text": [
            "3.0\n"
          ]
        }
      ]
    },
    {
      "cell_type": "code",
      "source": [
        "##NUMPY"
      ],
      "metadata": {
        "id": "eF0qKjkMnRQ_"
      },
      "execution_count": null,
      "outputs": []
    },
    {
      "cell_type": "markdown",
      "source": [],
      "metadata": {
        "id": "ZUgYD1K2u_4n"
      }
    },
    {
      "cell_type": "code",
      "source": [
        "import numpy as np\n",
        "np.linspace(1,7,10)"
      ],
      "metadata": {
        "id": "kQh-m6CKvIZI",
        "colab": {
          "base_uri": "https://localhost:8080/"
        },
        "outputId": "b42e08c1-f831-4b8d-d836-78a6a524fab8"
      },
      "execution_count": null,
      "outputs": [
        {
          "output_type": "execute_result",
          "data": {
            "text/plain": [
              "array([1.        , 1.66666667, 2.33333333, 3.        , 3.66666667,\n",
              "       4.33333333, 5.        , 5.66666667, 6.33333333, 7.        ])"
            ]
          },
          "metadata": {},
          "execution_count": 1
        }
      ]
    },
    {
      "cell_type": "code",
      "source": [
        "np.random.rand(3,3)"
      ],
      "metadata": {
        "id": "UjPKgFndR5jd",
        "colab": {
          "base_uri": "https://localhost:8080/"
        },
        "outputId": "c947c30a-9c3b-4df4-aea8-bf5a331105d5"
      },
      "execution_count": null,
      "outputs": [
        {
          "output_type": "execute_result",
          "data": {
            "text/plain": [
              "array([[0.78129413, 0.47483078, 0.83829729],\n",
              "       [0.6661629 , 0.28125161, 0.3940937 ],\n",
              "       [0.05476781, 0.59888692, 0.40959898]])"
            ]
          },
          "metadata": {},
          "execution_count": 3
        }
      ]
    },
    {
      "cell_type": "code",
      "source": [
        "np.random.randn(2,3)"
      ],
      "metadata": {
        "colab": {
          "base_uri": "https://localhost:8080/"
        },
        "id": "y2-zmjhBwmFF",
        "outputId": "0adf6ee4-3c81-4d59-eb84-534d97d67545"
      },
      "execution_count": null,
      "outputs": [
        {
          "output_type": "execute_result",
          "data": {
            "text/plain": [
              "array([[-0.47762021, -0.62734676, -0.04395103],\n",
              "       [-1.21667473,  1.71444684,  0.7231334 ]])"
            ]
          },
          "metadata": {},
          "execution_count": 4
        }
      ]
    },
    {
      "cell_type": "code",
      "source": [
        "np.random.randint(12,25)"
      ],
      "metadata": {
        "colab": {
          "base_uri": "https://localhost:8080/"
        },
        "id": "AXBZe_gsxb2p",
        "outputId": "bbea2b04-41d2-4d70-d4e1-64cfa0cc3832"
      },
      "execution_count": null,
      "outputs": [
        {
          "output_type": "execute_result",
          "data": {
            "text/plain": [
              "23"
            ]
          },
          "metadata": {},
          "execution_count": 5
        }
      ]
    },
    {
      "cell_type": "code",
      "source": [
        "np.random.randint(12,25,5)"
      ],
      "metadata": {
        "colab": {
          "base_uri": "https://localhost:8080/"
        },
        "id": "ivu4vs0Cycf9",
        "outputId": "24fdb696-ac21-4ccd-9e7c-2b7caf2aadc4"
      },
      "execution_count": null,
      "outputs": [
        {
          "output_type": "execute_result",
          "data": {
            "text/plain": [
              "array([19, 13, 23, 23, 21])"
            ]
          },
          "metadata": {},
          "execution_count": 9
        }
      ]
    },
    {
      "cell_type": "code",
      "source": [
        "r = np.random.randint(1,100,27)\n",
        "r"
      ],
      "metadata": {
        "colab": {
          "base_uri": "https://localhost:8080/"
        },
        "id": "YxwPxrlzyfFE",
        "outputId": "3329f16b-273b-4cc7-bcb7-e0ebb992eca0"
      },
      "execution_count": null,
      "outputs": [
        {
          "output_type": "execute_result",
          "data": {
            "text/plain": [
              "array([98, 61, 58,  6, 42, 41, 32, 60, 12, 58, 62, 44, 12, 76, 46, 69, 82,\n",
              "       27, 77, 86, 59, 50, 69, 68, 70, 12, 71])"
            ]
          },
          "metadata": {},
          "execution_count": 17
        }
      ]
    },
    {
      "cell_type": "code",
      "source": [
        "r.reshape(9,3)"
      ],
      "metadata": {
        "colab": {
          "base_uri": "https://localhost:8080/"
        },
        "id": "tAuz-wae6pF9",
        "outputId": "436c18e2-5077-44ce-b926-47543ae4c7b0"
      },
      "execution_count": null,
      "outputs": [
        {
          "output_type": "execute_result",
          "data": {
            "text/plain": [
              "array([[98, 61, 58],\n",
              "       [ 6, 42, 41],\n",
              "       [32, 60, 12],\n",
              "       [58, 62, 44],\n",
              "       [12, 76, 46],\n",
              "       [69, 82, 27],\n",
              "       [77, 86, 59],\n",
              "       [50, 69, 68],\n",
              "       [70, 12, 71]])"
            ]
          },
          "metadata": {},
          "execution_count": 19
        }
      ]
    },
    {
      "cell_type": "code",
      "source": [
        "r[0:5] = 100"
      ],
      "metadata": {
        "id": "NQym2dML7Nf6"
      },
      "execution_count": null,
      "outputs": []
    },
    {
      "cell_type": "code",
      "source": [
        "r"
      ],
      "metadata": {
        "colab": {
          "base_uri": "https://localhost:8080/"
        },
        "id": "K0DFtXHEBlHl",
        "outputId": "80d4f945-ba46-4d57-a526-2e76ea11b8f5"
      },
      "execution_count": null,
      "outputs": [
        {
          "output_type": "execute_result",
          "data": {
            "text/plain": [
              "array([100, 100, 100, 100, 100,  41,  32,  60,  12,  58,  62,  44,  12,\n",
              "        76,  46,  69,  82,  27,  77,  86,  59,  50,  69,  68,  70,  12,\n",
              "        71])"
            ]
          },
          "metadata": {},
          "execution_count": 21
        }
      ]
    },
    {
      "cell_type": "code",
      "source": [
        "x = r.copy()"
      ],
      "metadata": {
        "id": "tNtiewbDBqG_"
      },
      "execution_count": null,
      "outputs": []
    },
    {
      "cell_type": "code",
      "source": [
        "x"
      ],
      "metadata": {
        "colab": {
          "base_uri": "https://localhost:8080/"
        },
        "id": "s9-W5lN3I1zE",
        "outputId": "7f81e3b8-4367-488a-fe97-32ae636f63a2"
      },
      "execution_count": null,
      "outputs": [
        {
          "output_type": "execute_result",
          "data": {
            "text/plain": [
              "array([100, 100, 100, 100, 100,  41,  32,  60,  12,  58,  62,  44,  12,\n",
              "        76,  46,  69,  82,  27,  77,  86,  59,  50,  69,  68,  70,  12,\n",
              "        71])"
            ]
          },
          "metadata": {},
          "execution_count": 24
        }
      ]
    },
    {
      "cell_type": "code",
      "source": [
        "x[:]= 0\n",
        "x"
      ],
      "metadata": {
        "colab": {
          "base_uri": "https://localhost:8080/"
        },
        "id": "2pL7VItiI7ru",
        "outputId": "83a4387b-1468-42c7-a2d5-46c64cb28051"
      },
      "execution_count": null,
      "outputs": [
        {
          "output_type": "execute_result",
          "data": {
            "text/plain": [
              "array([0, 0, 0, 0, 0, 0, 0, 0, 0, 0, 0, 0, 0, 0, 0, 0, 0, 0, 0, 0, 0, 0,\n",
              "       0, 0, 0, 0, 0])"
            ]
          },
          "metadata": {},
          "execution_count": 26
        }
      ]
    },
    {
      "cell_type": "code",
      "source": [
        "print(x)"
      ],
      "metadata": {
        "colab": {
          "base_uri": "https://localhost:8080/"
        },
        "id": "ptHS1vGAI_kc",
        "outputId": "ded8b7d2-9114-4e2e-c8c1-2ec1162f7a42"
      },
      "execution_count": null,
      "outputs": [
        {
          "output_type": "stream",
          "name": "stdout",
          "text": [
            "[0 0 0 0 0 0 0 0 0 0 0 0 0 0 0 0 0 0 0 0 0 0 0 0 0 0 0]\n"
          ]
        }
      ]
    },
    {
      "cell_type": "code",
      "source": [
        "c = np.array([[1,2,3],[2,3,4],[5,6,7]])\n",
        "c"
      ],
      "metadata": {
        "colab": {
          "base_uri": "https://localhost:8080/"
        },
        "id": "A6aoY7MXJDIh",
        "outputId": "17136aff-bda0-44d3-907d-84ea7619297c"
      },
      "execution_count": null,
      "outputs": [
        {
          "output_type": "execute_result",
          "data": {
            "text/plain": [
              "array([[1, 2, 3],\n",
              "       [2, 3, 4],\n",
              "       [5, 6, 7]])"
            ]
          },
          "metadata": {},
          "execution_count": 30
        }
      ]
    },
    {
      "cell_type": "code",
      "source": [
        "c[2,2]"
      ],
      "metadata": {
        "colab": {
          "base_uri": "https://localhost:8080/"
        },
        "id": "GfFl_gmqKA1n",
        "outputId": "d65bd324-02cd-41c5-e6db-917cd23dfe05"
      },
      "execution_count": null,
      "outputs": [
        {
          "output_type": "execute_result",
          "data": {
            "text/plain": [
              "7"
            ]
          },
          "metadata": {},
          "execution_count": 32
        }
      ]
    },
    {
      "cell_type": "code",
      "source": [
        "c[:3,1:]"
      ],
      "metadata": {
        "colab": {
          "base_uri": "https://localhost:8080/"
        },
        "id": "SJ9_9Y4VKLBM",
        "outputId": "49cb5b64-5121-482d-cc93-29c29ccd87ca"
      },
      "execution_count": null,
      "outputs": [
        {
          "output_type": "execute_result",
          "data": {
            "text/plain": [
              "array([[2, 3],\n",
              "       [3, 4],\n",
              "       [6, 7]])"
            ]
          },
          "metadata": {},
          "execution_count": 33
        }
      ]
    },
    {
      "cell_type": "code",
      "source": [
        "y = x<1\n"
      ],
      "metadata": {
        "id": "pBYWN38RMMp8"
      },
      "execution_count": null,
      "outputs": []
    },
    {
      "cell_type": "code",
      "source": [
        "y"
      ],
      "metadata": {
        "colab": {
          "base_uri": "https://localhost:8080/"
        },
        "id": "-KdK2DlBMrfV",
        "outputId": "b702af32-1954-40af-dbd9-535b2bb9771e"
      },
      "execution_count": null,
      "outputs": [
        {
          "output_type": "execute_result",
          "data": {
            "text/plain": [
              "array([ True,  True,  True,  True,  True,  True,  True,  True,  True,\n",
              "        True,  True,  True,  True,  True,  True,  True,  True,  True,\n",
              "        True,  True,  True,  True,  True,  True,  True,  True,  True])"
            ]
          },
          "metadata": {},
          "execution_count": 35
        }
      ]
    },
    {
      "cell_type": "code",
      "source": [
        " k = np.random.randint(1,55,7)"
      ],
      "metadata": {
        "id": "vQaqA0ZRMtrW"
      },
      "execution_count": null,
      "outputs": []
    },
    {
      "cell_type": "code",
      "source": [
        "k"
      ],
      "metadata": {
        "colab": {
          "base_uri": "https://localhost:8080/"
        },
        "id": "O1XgnRXtOC8n",
        "outputId": "7a353584-075f-4368-f1ad-60c17c1098bf"
      },
      "execution_count": null,
      "outputs": [
        {
          "output_type": "execute_result",
          "data": {
            "text/plain": [
              "array([ 1,  2, 21, 43, 16, 16, 52])"
            ]
          },
          "metadata": {},
          "execution_count": 39
        }
      ]
    },
    {
      "cell_type": "code",
      "source": [
        "np.sqrt(k)"
      ],
      "metadata": {
        "colab": {
          "base_uri": "https://localhost:8080/"
        },
        "id": "l0l4TUFdOPWO",
        "outputId": "13c5d642-45b5-448c-d0f1-0495545c88b1"
      },
      "execution_count": null,
      "outputs": [
        {
          "output_type": "execute_result",
          "data": {
            "text/plain": [
              "array([1.        , 1.41421356, 4.58257569, 6.55743852, 4.        ,\n",
              "       4.        , 7.21110255])"
            ]
          },
          "metadata": {},
          "execution_count": 40
        }
      ]
    },
    {
      "cell_type": "code",
      "source": [
        "np.sin(k)"
      ],
      "metadata": {
        "colab": {
          "base_uri": "https://localhost:8080/"
        },
        "id": "zlLyD9GkOU58",
        "outputId": "046d00e1-d044-49b4-9562-3e209c8e744b"
      },
      "execution_count": null,
      "outputs": [
        {
          "output_type": "execute_result",
          "data": {
            "text/plain": [
              "array([ 0.84147098,  0.90929743,  0.83665564, -0.83177474, -0.28790332,\n",
              "       -0.28790332,  0.98662759])"
            ]
          },
          "metadata": {},
          "execution_count": 41
        }
      ]
    },
    {
      "cell_type": "code",
      "source": [
        "k"
      ],
      "metadata": {
        "colab": {
          "base_uri": "https://localhost:8080/"
        },
        "id": "kcwMdjhIOZYy",
        "outputId": "fcb46ca2-702f-4f6e-eeef-0584762fef3e"
      },
      "execution_count": null,
      "outputs": [
        {
          "output_type": "execute_result",
          "data": {
            "text/plain": [
              "array([ 1,  2, 21, 43, 16, 16, 52])"
            ]
          },
          "metadata": {},
          "execution_count": 42
        }
      ]
    },
    {
      "cell_type": "code",
      "source": [
        "l = np.tan(k)\n",
        "l"
      ],
      "metadata": {
        "colab": {
          "base_uri": "https://localhost:8080/"
        },
        "id": "ZvCgQmDkOa36",
        "outputId": "94e75510-46d3-4978-aae2-65b8b7b59848"
      },
      "execution_count": null,
      "outputs": [
        {
          "output_type": "execute_result",
          "data": {
            "text/plain": [
              "array([ 1.55740772, -2.18503986, -1.52749853, -1.49838734,  0.30063224,\n",
              "        0.30063224, -6.05327238])"
            ]
          },
          "metadata": {},
          "execution_count": 43
        }
      ]
    },
    {
      "cell_type": "code",
      "source": [
        "l"
      ],
      "metadata": {
        "colab": {
          "base_uri": "https://localhost:8080/"
        },
        "id": "yFmOIaKPOi9a",
        "outputId": "1f6bb46d-9cda-4f22-a408-bc04db917a32"
      },
      "execution_count": null,
      "outputs": [
        {
          "output_type": "execute_result",
          "data": {
            "text/plain": [
              "array([ 1.55740772, -2.18503986, -1.52749853, -1.49838734,  0.30063224,\n",
              "        0.30063224, -6.05327238])"
            ]
          },
          "metadata": {},
          "execution_count": 44
        }
      ]
    },
    {
      "cell_type": "code",
      "source": [
        "np.log(k)"
      ],
      "metadata": {
        "colab": {
          "base_uri": "https://localhost:8080/"
        },
        "id": "lZlU1y1uOnmS",
        "outputId": "9651e1e5-171b-4845-831c-2cde85339c81"
      },
      "execution_count": null,
      "outputs": [
        {
          "output_type": "execute_result",
          "data": {
            "text/plain": [
              "array([0.        , 0.69314718, 3.04452244, 3.76120012, 2.77258872,\n",
              "       2.77258872, 3.95124372])"
            ]
          },
          "metadata": {},
          "execution_count": 45
        }
      ]
    },
    {
      "cell_type": "code",
      "source": [],
      "metadata": {
        "id": "YO6NrtjZOp22"
      },
      "execution_count": null,
      "outputs": []
    }
  ]
}